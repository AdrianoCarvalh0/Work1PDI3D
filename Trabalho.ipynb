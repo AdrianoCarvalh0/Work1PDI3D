{
 "cells": [
  {
   "cell_type": "markdown",
   "metadata": {},
   "source": [
    "### Lendo imagem"
   ]
  },
  {
   "cell_type": "code",
   "execution_count": null,
   "metadata": {},
   "outputs": [],
   "source": [
    "import SimpleITK as sitk\n",
    "import numpy as np\n",
    "from pathlib import Path\n",
    "import matplotlib.pyplot as plt\n",
    "\n",
    "\n",
    "#root_dir linux\n",
    "#root_dir =\"/home/adriano/projeto_mestrado/modules\"\n",
    "\n",
    "#root_dir windows\n",
    "root_dir = Path(r\"C:\\Users\\adria\\Documents\\Doutorado\\PDI\\Notebooks - PDI\\PDI_Ferrari\")\n",
    "dir_images = f'/imagens/3d/'\n",
    "\n",
    "image_path = f'{root_dir}{dir_images}I7025.nii.gz'\n",
    "image = sitk.ReadImage(image_path) \n",
    "\n",
    "    \n",
    "# Converter para numpy array\n",
    "image_array = sitk.GetArrayFromImage(image)\n",
    "\n",
    "# Exibir um slice no meio do volume\n",
    "slice_idx = image_array.shape[0] // 2  # Pega o índice do slice central\n",
    "slice_image = image_array[slice_idx, :, :]\n",
    "\n",
    "# Plotar o slice\n",
    "plt.figure(figsize=(8, 8))\n",
    "plt.imshow(slice_image, cmap=\"gray\")\n",
    "plt.title(f\"Slice {slice_idx}\")\n",
    "plt.axis(\"off\")\n",
    "plt.show()\n",
    "\n"
   ]
  },
  {
   "cell_type": "markdown",
   "metadata": {},
   "source": [
    "### Função"
   ]
  },
  {
   "cell_type": "code",
   "execution_count": 2,
   "metadata": {},
   "outputs": [],
   "source": [
    "import os\n",
    "def read_directories(directory, img=None):\n",
    "    # Get a list of filenames in the specified directory\n",
    "    filenames = []\n",
    "    for filename in os.listdir(directory):\n",
    "        if img is not None:\n",
    "            # If 'img' is provided, filter filenames containing it\n",
    "            if img in filename:   \n",
    "                filenames.append(filename)          \n",
    "        else:\n",
    "            filenames.append(filename)    \n",
    "    return filenames"
   ]
  },
  {
   "cell_type": "markdown",
   "metadata": {},
   "source": [
    "### Diretório das imagens"
   ]
  },
  {
   "cell_type": "code",
   "execution_count": 6,
   "metadata": {},
   "outputs": [],
   "source": [
    "dir_images = f'work1/clinical_images'"
   ]
  },
  {
   "cell_type": "markdown",
   "metadata": {},
   "source": [
    "### Filtro Anisotrópico"
   ]
  },
  {
   "cell_type": "code",
   "execution_count": 15,
   "metadata": {},
   "outputs": [
    {
     "name": "stdout",
     "output_type": "stream",
     "text": [
      "Filtered image using SimpleITK saved to C:\\Users\\adria\\Documents\\Doutorado\\PDI\\Notebooks - PDI\\PDI_Ferrari/images\\work1\\denoising/anisotropicDiffusion/_andif_0__IXI002-Guys-0828-T1.nii.gz\n",
      "Filtered image using SimpleITK saved to C:\\Users\\adria\\Documents\\Doutorado\\PDI\\Notebooks - PDI\\PDI_Ferrari/images\\work1\\denoising/anisotropicDiffusion/_andif_0__IXI012-HH-1211-T1.nii.gz\n",
      "Filtered image using SimpleITK saved to C:\\Users\\adria\\Documents\\Doutorado\\PDI\\Notebooks - PDI\\PDI_Ferrari/images\\work1\\denoising/anisotropicDiffusion/_andif_0__IXI013-HH-1212-T1.nii.gz\n",
      "Filtered image using SimpleITK saved to C:\\Users\\adria\\Documents\\Doutorado\\PDI\\Notebooks - PDI\\PDI_Ferrari/images\\work1\\denoising/anisotropicDiffusion/_andif_0__IXI014-HH-1236-T1.nii.gz\n",
      "Filtered image using SimpleITK saved to C:\\Users\\adria\\Documents\\Doutorado\\PDI\\Notebooks - PDI\\PDI_Ferrari/images\\work1\\denoising/anisotropicDiffusion/_andif_0__IXI015-HH-1258-T1.nii.gz\n"
     ]
    }
   ],
   "source": [
    "\n",
    "from pathlib import Path\n",
    "\n",
    "import SimpleITK as sitk\n",
    "\n",
    "def apply_anisotropic_diffusion_sitk(image_path, time_step, conductance, iterations, output_path):\n",
    "    \"\"\"\n",
    "    Apply a 3D anisotropic diffusion filter to a 3D image using SimpleITK.\n",
    "    \n",
    "    Parameters:\n",
    "    - image_path (str): Path to the input 3D image.\n",
    "    - time_step (float): The time step for the diffusion process.\n",
    "    - conductance (float): The conductance parameter for the diffusion process.\n",
    "    - iterations (int): Number of iterations for the diffusion process.\n",
    "    - output_path (str): Path to save the filtered image.\n",
    "    \"\"\"\n",
    "    # Load the image\n",
    "    image = sitk.ReadImage(image_path)\n",
    "    \n",
    "    # Cast the image to a supported pixel type (float32)\n",
    "    image = sitk.Cast(image, sitk.sitkFloat32)\n",
    "    \n",
    "    # Apply Anisotropic Diffusion filter\n",
    "    anisotropic_diffusion_filter = sitk.CurvatureAnisotropicDiffusionImageFilter()\n",
    "    anisotropic_diffusion_filter.SetTimeStep(time_step)\n",
    "    anisotropic_diffusion_filter.SetConductanceParameter(conductance)\n",
    "    anisotropic_diffusion_filter.SetNumberOfIterations(iterations)\n",
    "    filtered_image = anisotropic_diffusion_filter.Execute(image)\n",
    "    \n",
    "    # Save the filtered image\n",
    "    sitk.WriteImage(filtered_image, output_path)\n",
    "    print(f\"Filtered image using SimpleITK saved to {output_path}\")\n",
    "\n",
    "# Example usage\n",
    "if __name__ == \"__main__\":\n",
    "    array_images = read_directories(dir_images)    \n",
    "    dir_output = f'work1/denoising/anisotropicDiffusion'  \n",
    "    time_step, conductance, iterations =  0.0625, 1.0, 10\n",
    "    for image in array_images:    \n",
    "        output_name = f'{image}'\n",
    "        apply_anisotropic_diffusion_sitk(f'{dir_images}/{image}', time_step, conductance, iterations, f'{dir_output}/{output_name}')\n",
    "        "
   ]
  },
  {
   "cell_type": "markdown",
   "metadata": {},
   "source": [
    "### NLM - Skimage"
   ]
  },
  {
   "cell_type": "code",
   "execution_count": 14,
   "metadata": {},
   "outputs": [
    {
     "name": "stdout",
     "output_type": "stream",
     "text": [
      "Filtered image using scikit-image saved to C:\\Users\\adria\\Documents\\Doutorado\\PDI\\Notebooks - PDI\\PDI_Ferrari/images\\work1\\denoising/non_local_means/_nlm_0__IXI002-Guys-0828-T1.nii.gz\n",
      "Filtered image using scikit-image saved to C:\\Users\\adria\\Documents\\Doutorado\\PDI\\Notebooks - PDI\\PDI_Ferrari/images\\work1\\denoising/non_local_means/_nlm_0__IXI012-HH-1211-T1.nii.gz\n",
      "Filtered image using scikit-image saved to C:\\Users\\adria\\Documents\\Doutorado\\PDI\\Notebooks - PDI\\PDI_Ferrari/images\\work1\\denoising/non_local_means/_nlm_0__IXI013-HH-1212-T1.nii.gz\n",
      "Filtered image using scikit-image saved to C:\\Users\\adria\\Documents\\Doutorado\\PDI\\Notebooks - PDI\\PDI_Ferrari/images\\work1\\denoising/non_local_means/_nlm_0__IXI014-HH-1236-T1.nii.gz\n",
      "Filtered image using scikit-image saved to C:\\Users\\adria\\Documents\\Doutorado\\PDI\\Notebooks - PDI\\PDI_Ferrari/images\\work1\\denoising/non_local_means/_nlm_0__IXI015-HH-1258-T1.nii.gz\n"
     ]
    }
   ],
   "source": [
    "# Need to install\n",
    "# pip install scikit-image\n",
    "# pip install imageio-ffmpeg (not sure if this is needed ???)\n",
    "# pip install nibabel\n",
    "# pip install PyWavelets\n",
    "\n",
    "import numpy as np\n",
    "from skimage.restoration import denoise_nl_means, estimate_sigma\n",
    "import nibabel as nib\n",
    "from pathlib import Path\n",
    "\n",
    "def apply_nonlocal_means_skimage(image_path, patch_size, patch_distance, h, fast_mode, output_path):\n",
    "    \"\"\"\n",
    "    Apply a 3D Non-Local Means filter to a 3D image using scikit-image.\n",
    "    \n",
    "    Parameters:\n",
    "    - image_path (str): Path to the input 3D image.\n",
    "    - patch_size (int): The size of the patches used for denoising.\n",
    "    - patch_distance (int): The distance for the neighborhood search.\n",
    "    - h (float): The filtering parameter.\n",
    "    - fast_mode (bool): Whether to use the fast mode or not.\n",
    "    - output_path (str): Path to save the filtered image.\n",
    "    \"\"\"\n",
    "    # Load the image\n",
    "    image = nib.load(image_path)\n",
    "    image_data = image.get_fdata()\n",
    "    \n",
    "    # Estimate the noise standard deviation from the noisy image\n",
    "    sigma_est = np.mean(estimate_sigma(image_data))\n",
    "    \n",
    "    # Apply Non-Local Means filter\n",
    "    denoised_image = denoise_nl_means(image_data, patch_size=patch_size, patch_distance=patch_distance, h=h*sigma_est, fast_mode=fast_mode)\n",
    "    \n",
    "    # Save the filtered image\n",
    "    denoised_image_nib = nib.Nifti1Image(denoised_image, image.affine)\n",
    "    nib.save(denoised_image_nib, output_path)\n",
    "    print(f\"Filtered image using scikit-image saved to {output_path}\")\n",
    "\n",
    "# Example usage\n",
    "if __name__ == \"__main__\":\n",
    "    array_images = read_directories(dir_images)    \n",
    "    dir_output = f'work1/denoising/non_local_means'\n",
    "    i = 0\n",
    "    patch_size, patch_distance, h = 3, 5, 1.15\n",
    "    for image in array_images:    \n",
    "        output_name = f'{image}'\n",
    "        apply_nonlocal_means_skimage(f'{dir_images}/{image}',  patch_size, patch_distance, h, True, f'{dir_output}/{output_name}')\n"
   ]
  },
  {
   "cell_type": "markdown",
   "metadata": {},
   "source": [
    "### NLM SimpleITK"
   ]
  },
  {
   "cell_type": "code",
   "execution_count": null,
   "metadata": {},
   "outputs": [],
   "source": [
    "import SimpleITK as sitk\n",
    "import numpy as np\n",
    "from pathlib import Path\n",
    "import matplotlib.pyplot as plt\n",
    "\n",
    "\n",
    "\n",
    "array_images = read_directories(dir_images)\n",
    "for image in array_images:\n",
    "    patch_radius = 4\n",
    "   \n",
    "    image_path = f'{dir_images}/{image}'\n",
    "    print(image_path)\n",
    "    image_read = sitk.ReadImage(image_path)\n",
    "    # Apply Non-Local Means filter\n",
    "    nlm_filter = sitk.PatchBasedDenoisingImageFilter()\n",
    "    nlm_filter.SetPatchRadius(patch_radius)\n",
    "    nlm_filter.SetNoiseModel(sitk.PatchBasedDenoisingImageFilter.GAUSSIAN)\n",
    "    filtered_image = nlm_filter.Execute(image_read)\n",
    "    output_path = f'{dir_images}/denoising/non_local_means/'\n",
    "    output_name = f'{image}'\n",
    "    # Save the filtered image\n",
    "    sitk.WriteImage(filtered_image, f'{output_path}/{output_name}')\n",
    "  "
   ]
  },
  {
   "cell_type": "markdown",
   "metadata": {},
   "source": [
    "### Bilateral Filter"
   ]
  },
  {
   "cell_type": "code",
   "execution_count": null,
   "metadata": {},
   "outputs": [],
   "source": [
    "import SimpleITK as sitk\n",
    "\n",
    "def apply_bilateral_filter_sitk(image_path, domain_sigma, range_sigma, output_path):\n",
    "    \"\"\"\n",
    "    Apply a 3D bilateral filter to a 3D image using SimpleITK.\n",
    "    \n",
    "    Parameters:\n",
    "    - image_path (str): Path to the input 3D image.\n",
    "    - domain_sigma (float): The standard deviation for the spatial Gaussian kernel.\n",
    "    - range_sigma (float): The standard deviation for the range Gaussian kernel.\n",
    "    - output_path (str): Path to save the filtered image.\n",
    "    \"\"\"\n",
    "    # Load the image\n",
    "    image = sitk.ReadImage(image_path)\n",
    "    \n",
    "    # Apply Bilateral filter\n",
    "    bilateral_filter = sitk.BilateralImageFilter()\n",
    "    bilateral_filter.SetDomainSigma(domain_sigma)\n",
    "    bilateral_filter.SetRangeSigma(range_sigma)\n",
    "    filtered_image = bilateral_filter.Execute(image)\n",
    "    \n",
    "    # Save the filtered image\n",
    "    sitk.WriteImage(filtered_image, output_path)\n",
    "    print(f\"Filtered image using SimpleITK saved to {output_path}\")\n",
    "\n",
    "if __name__ == \"__main__\":\n",
    "    array_images = read_directories(dir_images)\n",
    "    #root_dir = Path(r\"C:\\Users\\adria\\Documents\\Doutorado\\PDI\\Notebooks - PDI\\PDI_Ferrari\")\n",
    "    dir_output = f'work1/denoising/bilateral'\n",
    "    domain_sigma, range_sigma =  2.0, 50.0   \n",
    "\n",
    "for image in array_images:    \n",
    "    output_name = f't{image}'\n",
    "    apply_bilateral_filter_sitk(f'{dir_images}/{image}', domain_sigma, range_sigma, f'{dir_output}/{output_name}')\n",
    "    \n"
   ]
  },
  {
   "cell_type": "markdown",
   "metadata": {},
   "source": [
    "### G - Images"
   ]
  },
  {
   "cell_type": "markdown",
   "metadata": {},
   "source": [
    "#### bilateral"
   ]
  },
  {
   "cell_type": "code",
   "execution_count": 22,
   "metadata": {},
   "outputs": [],
   "source": [
    "dir_anisotropic = f'work1/denoising/bilateral/images_filtered'\n",
    "dir_out_anisotropic = f'work1/denoising/bilateral/G'\n",
    "\n",
    "for image in array_images:\n",
    "    original_image = sitk.ReadImage(f'{dir_images}/{image}')\n",
    "    filtered_image = sitk.ReadImage(f'{dir_anisotropic}/{image}')\n",
    "    image_array = sitk.GetArrayFromImage(original_image)\n",
    "    image_array_filtered = sitk.GetArrayFromImage(filtered_image)\n",
    "    image_g = abs(image_array-image_array_filtered)\n",
    "    filtered_image = sitk.GetImageFromArray(image_g)\n",
    "    sitk.WriteImage(filtered_image, f'{dir_out_anisotropic}/{image}')\n"
   ]
  },
  {
   "cell_type": "markdown",
   "metadata": {},
   "source": [
    "#### anisotropicDiffusion"
   ]
  },
  {
   "cell_type": "code",
   "execution_count": 23,
   "metadata": {},
   "outputs": [],
   "source": [
    "dir_anisotropic = f'work1/denoising/anisotropicDiffusion/images_filtered'\n",
    "dir_out_anisotropic = f'work1/denoising/anisotropicDiffusion/G'\n",
    "\n",
    "for image in array_images:\n",
    "    original_image = sitk.ReadImage(f'{dir_images}/{image}')\n",
    "    filtered_image = sitk.ReadImage(f'{dir_anisotropic}/{image}')\n",
    "    image_array = sitk.GetArrayFromImage(original_image)\n",
    "    image_array_filtered = sitk.GetArrayFromImage(filtered_image)\n",
    "    image_g = abs(image_array-image_array_filtered)\n",
    "    filtered_image = sitk.GetImageFromArray(image_g)\n",
    "    sitk.WriteImage(filtered_image, f'{dir_out_anisotropic}/{image}')\n"
   ]
  },
  {
   "cell_type": "markdown",
   "metadata": {},
   "source": [
    "#### non_local_means"
   ]
  },
  {
   "cell_type": "code",
   "execution_count": 25,
   "metadata": {},
   "outputs": [],
   "source": [
    "dir_anisotropic = f'work1/denoising/non_local_means/images_filtered'\n",
    "dir_out_anisotropic = f'work1/denoising/non_local_means/G'\n",
    "\n",
    "for image in array_images:\n",
    "    original_image = sitk.ReadImage(f'{dir_images}/{image}')\n",
    "    filtered_image = sitk.ReadImage(f'{dir_anisotropic}/{image}')\n",
    "    image_array = sitk.GetArrayFromImage(original_image)\n",
    "    image_array_filtered = sitk.GetArrayFromImage(filtered_image)\n",
    "    image_g = abs(image_array-image_array_filtered)\n",
    "    filtered_image = sitk.GetImageFromArray(image_g)\n",
    "    sitk.WriteImage(filtered_image, f'{dir_out_anisotropic}/{image}')\n"
   ]
  }
 ],
 "metadata": {
  "kernelspec": {
   "display_name": ".venv",
   "language": "python",
   "name": "python3"
  },
  "language_info": {
   "codemirror_mode": {
    "name": "ipython",
    "version": 3
   },
   "file_extension": ".py",
   "mimetype": "text/x-python",
   "name": "python",
   "nbconvert_exporter": "python",
   "pygments_lexer": "ipython3",
   "version": "3.9.13"
  }
 },
 "nbformat": 4,
 "nbformat_minor": 2
}
