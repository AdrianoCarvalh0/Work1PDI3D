{
 "cells": [
  {
   "cell_type": "markdown",
   "metadata": {},
   "source": [
    "### Função"
   ]
  },
  {
   "cell_type": "code",
   "execution_count": 7,
   "metadata": {},
   "outputs": [],
   "source": [
    "\n",
    "import os\n",
    "def read_directories(directory, img=None):\n",
    "    # Get a list of filenames in the specified directory\n",
    "    filenames = []\n",
    "    for filename in os.listdir(directory):\n",
    "        if img is not None:\n",
    "            # If 'img' is provided, filter filenames containing it\n",
    "            if img in filename:   \n",
    "                filenames.append(filename)          \n",
    "        else:\n",
    "            filenames.append(filename)    \n",
    "    return filenames"
   ]
  },
  {
   "cell_type": "markdown",
   "metadata": {},
   "source": [
    "### Diretório das imagens"
   ]
  },
  {
   "cell_type": "code",
   "execution_count": 9,
   "metadata": {},
   "outputs": [],
   "source": [
    "\n",
    "dir_images_atlas = f'work1/atlas'\n",
    "dir_images_denoising_non_local_means = f'work1/denoising/non_local_means/images_filtered'\n",
    "\n",
    "dir_out_resampled = f'work1/atlas_resampled'\n",
    "\n",
    "\n",
    "array_images_atlas = read_directories(dir_images_atlas)\n",
    "array_images_denoising = read_directories(dir_images_denoising_non_local_means)\n",
    "\n"
   ]
  },
  {
   "cell_type": "code",
   "execution_count": 13,
   "metadata": {},
   "outputs": [
    {
     "name": "stdout",
     "output_type": "stream",
     "text": [
      "work1/atlas_resampled/IXI002-Guys-0828-T1.nii.gz\n"
     ]
    }
   ],
   "source": [
    "teste = f'{dir_out_resampled}/{array_images_denoising[0]}/'\n",
    "print(teste)"
   ]
  },
  {
   "cell_type": "code",
   "execution_count": 5,
   "metadata": {},
   "outputs": [
    {
     "ename": "RuntimeError",
     "evalue": "Exception thrown in SimpleITK ImageFileReader_Execute: D:\\a\\SimpleITK\\SimpleITK\\Code\\IO\\src\\sitkImageReaderBase.cxx:91:\nsitk::ERROR: The file \"data\\IXI002-Guys-0828-T1.nii.gz\" does not exist.",
     "output_type": "error",
     "traceback": [
      "\u001b[1;31m---------------------------------------------------------------------------\u001b[0m",
      "\u001b[1;31mRuntimeError\u001b[0m                              Traceback (most recent call last)",
      "\u001b[1;32m~\\AppData\\Local\\Temp\\ipykernel_8572\\1532282813.py\u001b[0m in \u001b[0;36m?\u001b[1;34m()\u001b[0m\n\u001b[1;32m---> 46\u001b[1;33m \u001b[1;32mimport\u001b[0m \u001b[0mSimpleITK\u001b[0m \u001b[1;32mas\u001b[0m \u001b[0msitk\u001b[0m\u001b[1;33m\u001b[0m\u001b[1;33m\u001b[0m\u001b[0m\n\u001b[0m\u001b[0;32m     47\u001b[0m \u001b[1;32mimport\u001b[0m \u001b[0mnumpy\u001b[0m \u001b[1;32mas\u001b[0m \u001b[0mnp\u001b[0m\u001b[1;33m\u001b[0m\u001b[1;33m\u001b[0m\u001b[0m\n\u001b[0;32m     48\u001b[0m \u001b[1;33m\u001b[0m\u001b[0m\n\u001b[0;32m     49\u001b[0m \u001b[1;31m# Função para reamostrar a imagem, ajustando resolução, tamanho e propriedades\u001b[0m\u001b[1;33m\u001b[0m\u001b[1;33m\u001b[0m\u001b[0m\n",
      "\u001b[1;32mc:\\Users\\adria\\Documents\\Doutorado\\Work1PDI3D\\.venv\\lib\\site-packages\\SimpleITK\\SimpleITK.py\u001b[0m in \u001b[0;36m?\u001b[1;34m(self)\u001b[0m\n\u001b[0;32m   8498\u001b[0m         \u001b[0mtype\u001b[0m \u001b[0mto\u001b[0m \u001b[0mbe\u001b[0m \u001b[0msame\u001b[0m \u001b[1;32mas\u001b[0m \u001b[0mthe\u001b[0m \u001b[0mfile\u001b[0m\u001b[1;33m.\u001b[0m \u001b[0mIf\u001b[0m \u001b[0mthe\u001b[0m \u001b[0mpixel\u001b[0m \u001b[0mtype\u001b[0m \u001b[1;32mis\u001b[0m \u001b[0mspecified\u001b[0m \u001b[0mthen\u001b[0m \u001b[0mthe\u001b[0m \u001b[0mitk\u001b[0m\u001b[1;33m:\u001b[0m\u001b[1;33m:\u001b[0m\u001b[0mConvertPixelBuffer\u001b[0m \u001b[0mwill\u001b[0m \u001b[0mbe\u001b[0m \u001b[0mused\u001b[0m \u001b[0mto\u001b[0m \u001b[0mconvert\u001b[0m \u001b[0mthe\u001b[0m \u001b[0mpixels\u001b[0m\u001b[1;33m.\u001b[0m\u001b[1;33m\u001b[0m\u001b[1;33m\u001b[0m\u001b[0m\n\u001b[0;32m   8499\u001b[0m \u001b[1;33m\u001b[0m\u001b[0m\n\u001b[0;32m   8500\u001b[0m \u001b[1;33m\u001b[0m\u001b[0m\n\u001b[0;32m   8501\u001b[0m         \"\"\"\n\u001b[1;32m-> 8502\u001b[1;33m         \u001b[1;32mreturn\u001b[0m \u001b[0m_SimpleITK\u001b[0m\u001b[1;33m.\u001b[0m\u001b[0mImageFileReader_Execute\u001b[0m\u001b[1;33m(\u001b[0m\u001b[0mself\u001b[0m\u001b[1;33m)\u001b[0m\u001b[1;33m\u001b[0m\u001b[1;33m\u001b[0m\u001b[0m\n\u001b[0m",
      "\u001b[1;31mRuntimeError\u001b[0m: Exception thrown in SimpleITK ImageFileReader_Execute: D:\\a\\SimpleITK\\SimpleITK\\Code\\IO\\src\\sitkImageReaderBase.cxx:91:\nsitk::ERROR: The file \"data\\IXI002-Guys-0828-T1.nii.gz\" does not exist."
     ]
    }
   ],
   "source": [
    "import SimpleITK as sitk\n",
    "import numpy as np\n",
    "\n",
    "# Função para reamostrar a imagem, ajustando resolução, tamanho e propriedades\n",
    "def resample_image(itk_image, out_spacing, out_size=None, reference_image=None, is_label=False):\n",
    "    resample = sitk.ResampleImageFilter()\n",
    "\n",
    "    # Define o tamanho e o espaçamento\n",
    "    if reference_image is not None:\n",
    "        # Usa as propriedades da imagem de referência\n",
    "        resample.SetSize(reference_image.GetSize())\n",
    "        resample.SetOutputSpacing(reference_image.GetSpacing())\n",
    "        resample.SetOutputDirection(reference_image.GetDirection())\n",
    "        resample.SetOutputOrigin(reference_image.GetOrigin())\n",
    "    else:\n",
    "        original_spacing = itk_image.GetSpacing()\n",
    "        original_size = itk_image.GetSize()\n",
    "        if out_size is None:\n",
    "            # Calcula o novo tamanho baseado no espaçamento\n",
    "            out_size = [\n",
    "                int(np.round(original_size[0] * (original_spacing[0] / out_spacing[0]))),\n",
    "                int(np.round(original_size[1] * (original_spacing[1] / out_spacing[1]))),\n",
    "                int(np.round(original_size[2] * (original_spacing[2] / out_spacing[2])))\n",
    "            ]\n",
    "        resample.SetSize(out_size)\n",
    "        resample.SetOutputSpacing(out_spacing)\n",
    "        resample.SetOutputDirection(itk_image.GetDirection())\n",
    "        resample.SetOutputOrigin(itk_image.GetOrigin())\n",
    "\n",
    "    # Configurações gerais do filtro\n",
    "    resample.SetTransform(sitk.Transform())\n",
    "    resample.SetDefaultPixelValue(itk_image.GetPixelIDValue())\n",
    "\n",
    "    # Escolhe o interpolador com base no tipo da imagem\n",
    "    if is_label:\n",
    "        resample.SetInterpolator(sitk.sitkNearestNeighbor)\n",
    "    else:\n",
    "        resample.SetInterpolator(sitk.sitkBSpline)\n",
    "\n",
    "    return resample.Execute(itk_image)\n",
    "\n",
    "\n",
    "# Programa principal\n",
    "reader = sitk.ImageFileReader()\n",
    "reader.SetFileName('data\\\\IXI002-Guys-0828-T1.nii.gz')\n",
    "img = reader.Execute()\n",
    "\n",
    "reader = sitk.ImageFileReader()\n",
    "reader.SetFileName('atlas\\\\mni_csf.nii.gz')\n",
    "img_atlas = reader.Execute()\n",
    "\n",
    "print(\"Informação imagem original:\")\n",
    "print(f\"Tamanho: {img.GetSize()}\")\n",
    "print(f\"Espaçamento: {img.GetSpacing()}\")\n",
    "print(f\"Origem: {img.GetOrigin()}\")\n",
    "print(f\"Direção: {img.GetDirection()}\")\n",
    "\n",
    "print(\"Informação do atlas:\")\n",
    "print(f\"Tamanho: {img_atlas.GetSize()}\")\n",
    "print(f\"Espaçamento: {img_atlas.GetSpacing()}\")\n",
    "print(f\"Origem: {img_atlas.GetOrigin()}\")\n",
    "print(f\"Direção: {img_atlas.GetDirection()}\")\n",
    "\n",
    "\n",
    "# Reamostra o atlas para coincidir com a imagem original\n",
    "img_resampled = resample_image(img_atlas, out_spacing=img.GetSpacing(), reference_image=img)\n",
    "\n",
    "print(\"Informação imagem reamostrada:\")\n",
    "print(f\"Tamanho: {img_resampled.GetSize()}\")\n",
    "print(f\"Espaçamento: {img_resampled.GetSpacing()}\")\n",
    "print(f\"Origem: {img_resampled.GetOrigin()}\")\n",
    "print(f\"Direção: {img_resampled.GetDirection()}\")\n",
    "\n",
    "\n",
    "# Salva a imagem reamostrada\n",
    "writer = sitk.ImageFileWriter()\n",
    "writer.SetFileName(\"atlas_resampled_to_img.nii.gz\")\n",
    "writer.Execute(img_resampled)\n"
   ]
  }
 ],
 "metadata": {
  "kernelspec": {
   "display_name": ".venv",
   "language": "python",
   "name": "python3"
  },
  "language_info": {
   "codemirror_mode": {
    "name": "ipython",
    "version": 3
   },
   "file_extension": ".py",
   "mimetype": "text/x-python",
   "name": "python",
   "nbconvert_exporter": "python",
   "pygments_lexer": "ipython3",
   "version": "3.9.13"
  }
 },
 "nbformat": 4,
 "nbformat_minor": 2
}
