{
 "cells": [
  {
   "cell_type": "markdown",
   "metadata": {},
   "source": [
    "### Função"
   ]
  },
  {
   "cell_type": "code",
   "execution_count": 7,
   "metadata": {},
   "outputs": [],
   "source": [
    "\n",
    "import os\n",
    "def read_directories(directory, img=None):\n",
    "    # Get a list of filenames in the specified directory\n",
    "    filenames = []\n",
    "    for filename in os.listdir(directory):\n",
    "        if img is not None:\n",
    "            # If 'img' is provided, filter filenames containing it\n",
    "            if img in filename:   \n",
    "                filenames.append(filename)          \n",
    "        else:\n",
    "            filenames.append(filename)    \n",
    "    return filenames"
   ]
  },
  {
   "cell_type": "markdown",
   "metadata": {},
   "source": [
    "### Diretório das imagens"
   ]
  },
  {
   "cell_type": "code",
   "execution_count": null,
   "metadata": {},
   "outputs": [],
   "source": [
    "\n",
    "dir_images_atlas = f'work1/atlas'\n",
    "dir_images_denoising_non_local_means = f'work1/denoising/non_local_means/images_filtered'\n",
    "\n",
    "dir_out_resampled = f'work1/atlas_resampled'\n",
    "\n",
    "\n",
    "array_images_atlas = read_directories(dir_images_atlas)\n",
    "array_images_denoising = read_directories(dir_images_denoising_non_local_means)\n",
    "array_dir_outputs = read_directories(dir_out_resampled)\n",
    "\n",
    "\n",
    "print(array_images_atlas)\n",
    "print(array_images_denoising)\n",
    "print(array_dir_outputs)"
   ]
  },
  {
   "cell_type": "code",
   "execution_count": null,
   "metadata": {},
   "outputs": [],
   "source": [
    "teste = f'{dir_out_resampled}/{array_images_denoising[0]}/'\n",
    "print(teste)"
   ]
  },
  {
   "cell_type": "code",
   "execution_count": 18,
   "metadata": {},
   "outputs": [],
   "source": [
    "import SimpleITK as sitk\n",
    "import numpy as np\n",
    "\n",
    "# Função para reamostrar a imagem, ajustando resolução, tamanho e propriedades\n",
    "def resample_image(itk_image, out_spacing, out_size=None, reference_image=None, is_label=False):\n",
    "    resample = sitk.ResampleImageFilter()\n",
    "\n",
    "    # Define o tamanho e o espaçamento\n",
    "    if reference_image is not None:\n",
    "        # Usa as propriedades da imagem de referência\n",
    "        resample.SetSize(reference_image.GetSize())\n",
    "        resample.SetOutputSpacing(reference_image.GetSpacing())\n",
    "        resample.SetOutputDirection(reference_image.GetDirection())\n",
    "        resample.SetOutputOrigin(reference_image.GetOrigin())\n",
    "    else:\n",
    "        original_spacing = itk_image.GetSpacing()\n",
    "        original_size = itk_image.GetSize()\n",
    "        if out_size is None:\n",
    "            # Calcula o novo tamanho baseado no espaçamento\n",
    "            out_size = [\n",
    "                int(np.round(original_size[0] * (original_spacing[0] / out_spacing[0]))),\n",
    "                int(np.round(original_size[1] * (original_spacing[1] / out_spacing[1]))),\n",
    "                int(np.round(original_size[2] * (original_spacing[2] / out_spacing[2])))\n",
    "            ]\n",
    "        resample.SetSize(out_size)\n",
    "        resample.SetOutputSpacing(out_spacing)\n",
    "        resample.SetOutputDirection(itk_image.GetDirection())\n",
    "        resample.SetOutputOrigin(itk_image.GetOrigin())\n",
    "\n",
    "    # Configurações gerais do filtro\n",
    "    resample.SetTransform(sitk.Transform())\n",
    "    resample.SetDefaultPixelValue(itk_image.GetPixelIDValue())\n",
    "\n",
    "    # Escolhe o interpolador com base no tipo da imagem\n",
    "    if is_label:\n",
    "        resample.SetInterpolator(sitk.sitkNearestNeighbor)\n",
    "    else:\n",
    "        resample.SetInterpolator(sitk.sitkBSpline)\n",
    "\n",
    "    return resample.Execute(itk_image)"
   ]
  },
  {
   "cell_type": "code",
   "execution_count": null,
   "metadata": {},
   "outputs": [],
   "source": [
    "# Programa principal\n",
    "for img_reference in array_images_denoising:\n",
    "    reader = sitk.ImageFileReader()\n",
    "    reader.SetFileName(f'{dir_images_denoising_non_local_means}/{img_reference}')\n",
    "    img = reader.Execute()\n",
    "    dir_output = f'{dir_out_resampled}/{img_reference}/'\n",
    "\n",
    "    for atlas in array_images_atlas:\n",
    "\n",
    "        reader = sitk.ImageFileReader()\n",
    "        reader.SetFileName(f'{dir_images_atlas}/{atlas}')\n",
    "        img_atlas = reader.Execute()\n",
    "\n",
    "        print(\"Informação imagem original:\")\n",
    "        print(f\"Tamanho: {img.GetSize()}\")\n",
    "        print(f\"Espaçamento: {img.GetSpacing()}\")\n",
    "        print(f\"Origem: {img.GetOrigin()}\")\n",
    "        print(f\"Direção: {img.GetDirection()}\")\n",
    "\n",
    "        print(\"Informação do atlas:\")\n",
    "        print(f\"Tamanho: {img_atlas.GetSize()}\")\n",
    "        print(f\"Espaçamento: {img_atlas.GetSpacing()}\")\n",
    "        print(f\"Origem: {img_atlas.GetOrigin()}\")\n",
    "        print(f\"Direção: {img_atlas.GetDirection()}\")\n",
    "\n",
    "\n",
    "        # Reamostra o atlas para coincidir com a imagem original\n",
    "        img_resampled = resample_image(img_atlas, out_spacing=img.GetSpacing(), reference_image=img)\n",
    "\n",
    "        print(\"Informação imagem reamostrada:\")\n",
    "        print(f\"Tamanho: {img_resampled.GetSize()}\")\n",
    "        print(f\"Espaçamento: {img_resampled.GetSpacing()}\")\n",
    "        print(f\"Origem: {img_resampled.GetOrigin()}\")\n",
    "        print(f\"Direção: {img_resampled.GetDirection()}\")\n",
    "\n",
    "\n",
    "        # Salva a imagem reamostrada\n",
    "        writer = sitk.ImageFileWriter()\n",
    "        writer.SetFileName(f\"{dir_output}/{atlas}\")\n",
    "        writer.Execute(img_resampled)"
   ]
  }
 ],
 "metadata": {
  "kernelspec": {
   "display_name": ".venv",
   "language": "python",
   "name": "python3"
  },
  "language_info": {
   "codemirror_mode": {
    "name": "ipython",
    "version": 3
   },
   "file_extension": ".py",
   "mimetype": "text/x-python",
   "name": "python",
   "nbconvert_exporter": "python",
   "pygments_lexer": "ipython3",
   "version": "3.9.13"
  }
 },
 "nbformat": 4,
 "nbformat_minor": 2
}
