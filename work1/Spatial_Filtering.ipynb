{
 "cells": [
  {
   "cell_type": "markdown",
   "metadata": {},
   "source": [
    "# 3D Spatial Image Filtering (Convolution)"
   ]
  },
  {
   "cell_type": "markdown",
   "metadata": {},
   "source": [
    "## Implementing and Running Convolution \"from scratch\""
   ]
  },
  {
   "cell_type": "code",
   "execution_count": 1,
   "metadata": {},
   "outputs": [
    {
     "name": "stdout",
     "output_type": "stream",
     "text": [
      "3D convolution applied and saved as 'convolved_3D_image.nii'\n"
     ]
    }
   ],
   "source": [
    "import SimpleITK as sitk\n",
    "import numpy as np\n",
    "\n",
    "def convolve_3d(image, kernel):\n",
    "    # Get the dimensions of the image and the kernel\n",
    "    image_array = sitk.GetArrayFromImage(image)\n",
    "    kernel_array = np.array(kernel)\n",
    "    \n",
    "    image_shape = image_array.shape\n",
    "    kernel_shape = kernel_array.shape\n",
    "    \n",
    "    # Define the padding size\n",
    "    pad_size = tuple((ks // 2 for ks in kernel_shape))\n",
    "    \n",
    "    # Pad the image\n",
    "    padded_image = np.pad(image_array, [(p, p) for p in pad_size], mode='constant', constant_values=0)\n",
    "    \n",
    "    # Prepare the output array\n",
    "    output_array = np.zeros_like(image_array)\n",
    "    \n",
    "    # Perform the convolution\n",
    "    for z in range(image_shape[0]):\n",
    "        for y in range(image_shape[1]):\n",
    "            for x in range(image_shape[2]):\n",
    "                # Extract the region of interest\n",
    "                region = padded_image[z:z + kernel_shape[0], y:y + kernel_shape[1], x:x + kernel_shape[2]]\n",
    "                # Apply the convolution (element-wise multiplication and summation)\n",
    "                output_array[z, y, x] = np.sum(region * kernel_array)\n",
    "    \n",
    "    # Convert the output array to a SimpleITK image\n",
    "    output_image = sitk.GetImageFromArray(output_array)\n",
    "    output_image.CopyInformation(image)\n",
    "    \n",
    "    return output_image\n",
    "\n",
    "# Example usage\n",
    "if __name__ == \"__main__\":\n",
    "    # Load a 3D image\n",
    "    image = sitk.ReadImage('data/I7025.nii.gz')\n",
    "    \n",
    "    # Define a 3D kernel (e.g., 3x3x3 mean filter)\n",
    "    kernel = np.ones((3, 3, 3)) / 27\n",
    "    \n",
    "    # Apply the custom 3D convolution\n",
    "    convolved_image = convolve_3d(image, kernel)\n",
    "    \n",
    "    # Save the convolved image\n",
    "    sitk.WriteImage(convolved_image, 'convolved_3D_image_nparray.nii')\n",
    "    \n",
    "    print(\"3D convolution applied and saved as 'convolved_3D_image.nii'\")\n"
   ]
  },
  {
   "cell_type": "markdown",
   "metadata": {},
   "source": [
    "## Using a Convolution function from the SimpleITK package"
   ]
  },
  {
   "cell_type": "code",
   "execution_count": 5,
   "metadata": {},
   "outputs": [
    {
     "name": "stdout",
     "output_type": "stream",
     "text": [
      "3D convolution applied and saved as 'convolved_3D_image_sitk.nii'\n"
     ]
    }
   ],
   "source": [
    "import SimpleITK as sitk\n",
    "import numpy as np\n",
    "\n",
    "def convolve_3d_image(image, kernel):\n",
    "    \"\"\"\n",
    "    Apply 3D convolution to a given image using a specified kernel.\n",
    "\n",
    "    Parameters:\n",
    "    - image (sitk.Image): The input 3D image.\n",
    "    - kernel (np.ndarray): 3D kernel to be used for convolution.\n",
    "\n",
    "    Returns:\n",
    "    - convolved_image (sitk.Image): The convolved 3D image.\n",
    "    \"\"\"\n",
    "    # Ensure the image is in float format \n",
    "    image = sitk.Cast(image, sitk.sitkFloat32)\n",
    "\n",
    "    # Convert the kernel to a SimpleITK image\n",
    "    kernel_image = sitk.GetImageFromArray(kernel.astype(np.float32))\n",
    "    \n",
    "    # Apply the convolution using sitk.Convolution\n",
    "    convolved_image = sitk.Convolution(image, kernel_image)\n",
    "    \n",
    "    return convolved_image\n",
    "\n",
    "# Example usage\n",
    "if __name__ == \"__main__\":\n",
    "    # Path to the input 3D image\n",
    "    input_image_path = 'data/I7025.nii.gz'\n",
    "    \n",
    "    # Load the 3D image\n",
    "    image = sitk.ReadImage(input_image_path)\n",
    "    \n",
    "    # Define a 3D kernel (e.g., 3x3x3 mean filter)\n",
    "    kernel = np.ones((3, 3, 3)) / 27\n",
    "    \n",
    "    # Apply the 3D convolution\n",
    "\n",
    "    # the sitk.Convolution function in SimpleITK handles padding internally. \n",
    "    # By default, it uses a boundary condition known as \"zero-flux Neumann\" \n",
    "    # (also called \"symmetric\" padding in other contexts), which ensures that \n",
    "    # the values at the border of the image are reflected. This helps to mitigate \n",
    "    # the border effects that occur during convolution.\n",
    "\n",
    "    # Zero-Flux Neumann Padding\n",
    "    # Description: The values at the edges of the image are reflected, meaning \n",
    "    # the border pixels are mirrored to extend the image.\n",
    "\n",
    "    # Advantages: Preserves the continuity of the image at the borders and reduces \n",
    "    # edge artifacts.\n",
    "\n",
    "    # Implementation: This is handled internally by the sitk.Convolution function, \n",
    "    # so you don't need to explicitly pad the image.\n",
    "\n",
    "    # This internal handling of padding makes the sitk.Convolution function \n",
    "    # convenient and easy to use for applying convolutions without worrying about \n",
    "    # boundary conditions.\n",
    "\n",
    "    convolved_image = convolve_3d_image(image, kernel)\n",
    "    \n",
    "    # Path to save the convolved 3D image\n",
    "    output_image_path = 'convolved_3D_image_sitk.nii'\n",
    "    \n",
    "    # Save the convolved image\n",
    "    sitk.WriteImage(convolved_image, output_image_path)\n",
    "    \n",
    "    print(f\"3D convolution applied and saved as '{output_image_path}'\")\n"
   ]
  },
  {
   "cell_type": "markdown",
   "metadata": {},
   "source": [
    "## Using a Convolution function from the scipy.ndimage package"
   ]
  },
  {
   "cell_type": "code",
   "execution_count": 6,
   "metadata": {},
   "outputs": [
    {
     "name": "stdout",
     "output_type": "stream",
     "text": [
      "3D convolution applied using SciPy and saved as 'convolved_3D_image_scipy.nii'\n"
     ]
    }
   ],
   "source": [
    "import numpy as np\n",
    "import SimpleITK as sitk\n",
    "from scipy.ndimage import convolve\n",
    "\n",
    "def convolve_3d_image_scipy(image, kernel):\n",
    "    \"\"\"\n",
    "    Apply 3D convolution to a given image using a specified kernel with SciPy.\n",
    "\n",
    "    Parameters:\n",
    "    - image (sitk.Image): The input 3D image.\n",
    "    - kernel (np.ndarray): 3D kernel to be used for convolution.\n",
    "\n",
    "    Returns:\n",
    "    - convolved_image (sitk.Image): The convolved 3D image.\n",
    "    \"\"\"\n",
    "    # Convert the SimpleITK image to a NumPy array\n",
    "    image_array = sitk.GetArrayFromImage(image)\n",
    "    \n",
    "    # Ensure the image and kernel are in float format\n",
    "    image_array = image_array.astype(np.float32)\n",
    "    kernel = kernel.astype(np.float32)\n",
    "    \n",
    "    # Apply the convolution using scipy.ndimage.convolve\n",
    "    convolved_array = convolve(image_array, kernel, mode='constant', cval=0.0)\n",
    "    \n",
    "    # Convert the convolved array back to a SimpleITK image\n",
    "    convolved_image = sitk.GetImageFromArray(convolved_array)\n",
    "    convolved_image.CopyInformation(image)\n",
    "    \n",
    "    return convolved_image\n",
    "\n",
    "# Example usage\n",
    "if __name__ == \"__main__\":\n",
    "    # Path to the input 3D image\n",
    "    input_image_path = 'data/I7025.nii.gz'\n",
    "    \n",
    "    # Load the 3D image\n",
    "    image = sitk.ReadImage(input_image_path)\n",
    "    \n",
    "    # Define a 3D kernel (e.g., 3x3x3 mean filter)\n",
    "    kernel = np.ones((3, 3, 3)) / 27\n",
    "    \n",
    "    # Apply the 3D convolution\n",
    "    convolved_image = convolve_3d_image_scipy(image, kernel)\n",
    "    \n",
    "    # Path to save the convolved 3D image\n",
    "    output_image_path = 'convolved_3D_image_scipy.nii'\n",
    "    \n",
    "    # Save the convolved image\n",
    "    sitk.WriteImage(convolved_image, output_image_path)\n",
    "    \n",
    "    print(f\"3D convolution applied using SciPy and saved as '{output_image_path}'\")\n"
   ]
  },
  {
   "cell_type": "markdown",
   "metadata": {},
   "source": [
    "## 3D Gaussian filtering using np.ndarray "
   ]
  },
  {
   "cell_type": "code",
   "execution_count": 4,
   "metadata": {},
   "outputs": [
    {
     "name": "stdout",
     "output_type": "stream",
     "text": [
      "Filtered image using NumPy saved to 'convolved_3D_image.nii'\n"
     ]
    }
   ],
   "source": [
    "import numpy as np\n",
    "import SimpleITK as sitk\n",
    "from scipy.signal import convolve\n",
    "\n",
    "def gaussian_kernel(size, sigma):\n",
    "    \"\"\"\n",
    "    Generate a 3D Gaussian kernel.\n",
    "    \n",
    "    Parameters:\n",
    "    - size (int): The size of the kernel (should be odd).\n",
    "    - sigma (float): The standard deviation of the Gaussian distribution.\n",
    "    \n",
    "    Returns:\n",
    "    - kernel (np.ndarray): The 3D Gaussian kernel.\n",
    "    \"\"\"\n",
    "    kernel_range = np.linspace(-(size // 2), size // 2, size)\n",
    "    x, y, z = np.meshgrid(kernel_range, kernel_range, kernel_range)\n",
    "    kernel = np.exp(-(x**2 + y**2 + z**2) / (2 * sigma**2))\n",
    "    kernel = kernel / np.sum(kernel)  # Normalize the kernel\n",
    "    return kernel\n",
    "\n",
    "def apply_gaussian_filter(image, kernel):\n",
    "    \"\"\"\n",
    "    Apply a 3D Gaussian filter to a 3D image using convolution.\n",
    "    \n",
    "    Parameters:\n",
    "    - image (np.ndarray): The 3D image.\n",
    "    - kernel (np.ndarray): The 3D Gaussian kernel.\n",
    "    \n",
    "    Returns:\n",
    "    - filtered_image (np.ndarray): The filtered 3D image.\n",
    "    \"\"\"\n",
    "    filtered_image = convolve(image, kernel, mode='same')\n",
    "    return filtered_image\n",
    "\n",
    "# Example usage\n",
    "if __name__ == \"__main__\":\n",
    "    # Load the 3D image from a .nii file using SimpleITK\n",
    "    image = sitk.ReadImage('data/I7025.nii.gz')\n",
    "    image_array = sitk.GetArrayFromImage(image)\n",
    "    \n",
    "    # Generate a 3D Gaussian kernel\n",
    "    size = 3  # Size of the kernel\n",
    "    sigma = 1.0  # Standard deviation\n",
    "    kernel = gaussian_kernel(size, sigma)\n",
    "    \n",
    "    # Apply the Gaussian filter\n",
    "    filtered_image_array = apply_gaussian_filter(image_array, kernel)\n",
    "    \n",
    "    # Convert the filtered array back to a SimpleITK image\n",
    "    filtered_image = sitk.GetImageFromArray(filtered_image_array)\n",
    "    filtered_image.CopyInformation(image)\n",
    "    \n",
    "    # Save the filtered image to a .nii file\n",
    "    sitk.WriteImage(filtered_image, 'convolved_3D_image_nparray.nii')\n",
    "    \n",
    "    print(\"Filtered image using NumPy saved to 'convolved_3D_image.nii'\")\n"
   ]
  },
  {
   "cell_type": "markdown",
   "metadata": {},
   "source": [
    "## 3D Gaussian filtering using SimpleITK     "
   ]
  },
  {
   "cell_type": "code",
   "execution_count": null,
   "metadata": {},
   "outputs": [
    {
     "name": "stdout",
     "output_type": "stream",
     "text": [
      "Filtered image using SimpleITK saved to convolved_3D_image_sitk.nii\n"
     ]
    }
   ],
   "source": [
    "import SimpleITK as sitk\n",
    "\n",
    "def apply_gaussian_filter_sitk(image_path, sigma, output_path):\n",
    "    \"\"\"\n",
    "    Apply a Gaussian filter to a 3D image using SimpleITK.\n",
    "    \n",
    "    Parameters:\n",
    "    - image_path (str): Path to the input 3D image.\n",
    "    - sigma (float): The standard deviation of the Gaussian distribution.\n",
    "    - output_path (str): Path to save the filtered image.\n",
    "    \"\"\"\n",
    "    # Load the image\n",
    "    image = sitk.ReadImage(image_path)\n",
    "    \n",
    "    # Apply Gaussian filter\n",
    "    gaussian_filter = sitk.SmoothingRecursiveGaussianImageFilter()\n",
    "    gaussian_filter.SetSigma(sigma)\n",
    "    filtered_image = gaussian_filter.Execute(image)\n",
    "    \n",
    "    # Save the filtered image\n",
    "    sitk.WriteImage(filtered_image, output_path)\n",
    "    print(f\"Filtered image using SimpleITK saved to {output_path}\")\n",
    "\n",
    "# Example usage\n",
    "if __name__ == \"__main__\":\n",
    "    apply_gaussian_filter_sitk('data/I7025.nii.gz', 1.0, 'convolved_3D_image_sitk.nii')\n"
   ]
  },
  {
   "cell_type": "markdown",
   "metadata": {},
   "source": [
    "## 3D Gaussian filtering using scipy"
   ]
  },
  {
   "cell_type": "code",
   "execution_count": 12,
   "metadata": {},
   "outputs": [
    {
     "name": "stdout",
     "output_type": "stream",
     "text": [
      "Filtered image using SciPy saved to 'convolved_3D_image.nii'\n"
     ]
    }
   ],
   "source": [
    "import numpy as np\n",
    "import SimpleITK as sitk\n",
    "from scipy.ndimage import gaussian_filter\n",
    "\n",
    "def apply_gaussian_filter_scipy(image, sigma):\n",
    "    \"\"\"\n",
    "    Apply a Gaussian filter to a 3D image using SciPy.\n",
    "    \n",
    "    Parameters:\n",
    "    - image (np.ndarray): The 3D image.\n",
    "    - sigma (float): The standard deviation of the Gaussian distribution.\n",
    "    \n",
    "    Returns:\n",
    "    - filtered_image (np.ndarray): The filtered 3D image.\n",
    "    \"\"\"\n",
    "    filtered_image = gaussian_filter(image, sigma=sigma)\n",
    "    return filtered_image\n",
    "\n",
    "# Example usage\n",
    "if __name__ == \"__main__\":\n",
    "    # Load the 3D image from a .nii file using SimpleITK\n",
    "    image = sitk.ReadImage('data/I7025.nii.gz')\n",
    "    image_array = sitk.GetArrayFromImage(image)\n",
    "    \n",
    "    # Apply the Gaussian filter\n",
    "    sigma = 1.0  # Standard deviation\n",
    "    filtered_image_array = apply_gaussian_filter_scipy(image_array, sigma)\n",
    "    \n",
    "    # Convert the filtered array back to a SimpleITK image\n",
    "    filtered_image = sitk.GetImageFromArray(filtered_image_array)\n",
    "    filtered_image.CopyInformation(image)\n",
    "    \n",
    "    # Save the filtered image to a .nii file\n",
    "    sitk.WriteImage(filtered_image, 'convolved_3D_image_scipy.nii')\n",
    "    \n",
    "    print(\"Filtered image using SciPy saved to 'convolved_3D_image.nii'\")\n"
   ]
  },
  {
   "cell_type": "markdown",
   "metadata": {},
   "source": [
    "## Non-Linear Filtering - Median Filter using SimpleITK"
   ]
  },
  {
   "cell_type": "code",
   "execution_count": 11,
   "metadata": {},
   "outputs": [
    {
     "name": "stdout",
     "output_type": "stream",
     "text": [
      "Filtered image using SimpleITK saved to medial_filtering_3D_image.nii\n"
     ]
    }
   ],
   "source": [
    "import SimpleITK as sitk\n",
    "\n",
    "def apply_median_filter_sitk(image_path, size, output_path):\n",
    "    \"\"\"\n",
    "    Apply a 3D median filter to a 3D image using SimpleITK.\n",
    "    \n",
    "    Parameters:\n",
    "    - image_path (str): Path to the input 3D image.\n",
    "    - size (int): The size of the median filter kernel.\n",
    "    - output_path (str): Path to save the filtered image.\n",
    "    \"\"\"\n",
    "    # Load the image\n",
    "    image = sitk.ReadImage(image_path)\n",
    "    \n",
    "    # Apply Median filter\n",
    "    median_filter = sitk.MedianImageFilter()\n",
    "    median_filter.SetRadius(size)\n",
    "    filtered_image = median_filter.Execute(image)\n",
    "    \n",
    "    # Save the filtered image\n",
    "    sitk.WriteImage(filtered_image, output_path)\n",
    "    print(f\"Filtered image using SimpleITK saved to {output_path}\")\n",
    "\n",
    "# Example usage\n",
    "if __name__ == \"__main__\":\n",
    "    apply_median_filter_sitk('data/I7025.nii.gz', 1, 'medial_filtering_3D_image.nii')\n"
   ]
  },
  {
   "cell_type": "markdown",
   "metadata": {},
   "source": [
    "## Non-Linear Filtering - Bilateral Filter using SimpleITK"
   ]
  },
  {
   "cell_type": "code",
   "execution_count": 17,
   "metadata": {},
   "outputs": [
    {
     "name": "stdout",
     "output_type": "stream",
     "text": [
      "Filtered image using SimpleITK saved to bilateral_filtering_3D_image.nii\n"
     ]
    }
   ],
   "source": [
    "import SimpleITK as sitk\n",
    "\n",
    "def apply_bilateral_filter_sitk(image_path, domain_sigma, range_sigma, output_path):\n",
    "    \"\"\"\n",
    "    Apply a 3D bilateral filter to a 3D image using SimpleITK.\n",
    "    \n",
    "    Parameters:\n",
    "    - image_path (str): Path to the input 3D image.\n",
    "    - domain_sigma (float): The standard deviation for the spatial Gaussian kernel.\n",
    "    - range_sigma (float): The standard deviation for the range Gaussian kernel.\n",
    "    - output_path (str): Path to save the filtered image.\n",
    "    \"\"\"\n",
    "    # Load the image\n",
    "    image = sitk.ReadImage(image_path)\n",
    "    \n",
    "    # Apply Bilateral filter\n",
    "    bilateral_filter = sitk.BilateralImageFilter()\n",
    "    bilateral_filter.SetDomainSigma(domain_sigma)\n",
    "    bilateral_filter.SetRangeSigma(range_sigma)\n",
    "    filtered_image = bilateral_filter.Execute(image)\n",
    "    \n",
    "    # Save the filtered image\n",
    "    sitk.WriteImage(filtered_image, output_path)\n",
    "    print(f\"Filtered image using SimpleITK saved to {output_path}\")\n",
    "\n",
    "# Example usage\n",
    "if __name__ == \"__main__\":\n",
    "    apply_bilateral_filter_sitk('data/I7025.nii.gz', 2.0, 50.0, 'bilateral_filtering_3D_image.nii')\n"
   ]
  },
  {
   "cell_type": "markdown",
   "metadata": {},
   "source": [
    "## Non-Linear Filtering - Anisotropic Diffusion Filter using SimpleITK"
   ]
  },
  {
   "cell_type": "code",
   "execution_count": 19,
   "metadata": {},
   "outputs": [
    {
     "name": "stdout",
     "output_type": "stream",
     "text": [
      "Filtered image using SimpleITK saved to anisotropic_diffusion_3D_image.nii\n"
     ]
    }
   ],
   "source": [
    "import SimpleITK as sitk\n",
    "\n",
    "def apply_anisotropic_diffusion_sitk(image_path, time_step, conductance, iterations, output_path):\n",
    "    \"\"\"\n",
    "    Apply a 3D anisotropic diffusion filter to a 3D image using SimpleITK.\n",
    "    \n",
    "    Parameters:\n",
    "    - image_path (str): Path to the input 3D image.\n",
    "    - time_step (float): The time step for the diffusion process.\n",
    "    - conductance (float): The conductance parameter for the diffusion process.\n",
    "    - iterations (int): Number of iterations for the diffusion process.\n",
    "    - output_path (str): Path to save the filtered image.\n",
    "    \"\"\"\n",
    "    # Load the image\n",
    "    image = sitk.ReadImage(image_path)\n",
    "    \n",
    "    # Cast the image to a supported pixel type (float32)\n",
    "    image = sitk.Cast(image, sitk.sitkFloat32)\n",
    "    \n",
    "    # Apply Anisotropic Diffusion filter\n",
    "    anisotropic_diffusion_filter = sitk.CurvatureAnisotropicDiffusionImageFilter()\n",
    "    anisotropic_diffusion_filter.SetTimeStep(time_step)\n",
    "    anisotropic_diffusion_filter.SetConductanceParameter(conductance)\n",
    "    anisotropic_diffusion_filter.SetNumberOfIterations(iterations)\n",
    "    filtered_image = anisotropic_diffusion_filter.Execute(image)\n",
    "    \n",
    "    # Save the filtered image\n",
    "    sitk.WriteImage(filtered_image, output_path)\n",
    "    print(f\"Filtered image using SimpleITK saved to {output_path}\")\n",
    "\n",
    "# Example usage\n",
    "if __name__ == \"__main__\":\n",
    "    apply_anisotropic_diffusion_sitk('data/I7025.nii.gz', 0.0625, 1.0, 10, 'anisotropic_diffusion_3D_image.nii')\n"
   ]
  },
  {
   "cell_type": "markdown",
   "metadata": {},
   "source": [
    "## Non-Linear Filtering - NonLocal Means Filter using "
   ]
  },
  {
   "cell_type": "code",
   "execution_count": null,
   "metadata": {},
   "outputs": [
    {
     "name": "stdout",
     "output_type": "stream",
     "text": [
      "Filtered image using scikit-image saved to nonlocal_means_3D_image_skimage.nii\n"
     ]
    }
   ],
   "source": [
    "# Need to install\n",
    "# pip install scikit-image\n",
    "# pip install imageio-ffmpeg (not sure if this is needed ???)\n",
    "# pip install nibabel\n",
    "# pip install PyWavelets\n",
    "\n",
    "import numpy as np\n",
    "from skimage.restoration import denoise_nl_means, estimate_sigma\n",
    "import nibabel as nib\n",
    "\n",
    "def apply_nonlocal_means_skimage(image_path, patch_size, patch_distance, h, fast_mode, output_path):\n",
    "    \"\"\"\n",
    "    Apply a 3D Non-Local Means filter to a 3D image using scikit-image.\n",
    "    \n",
    "    Parameters:\n",
    "    - image_path (str): Path to the input 3D image.\n",
    "    - patch_size (int): The size of the patches used for denoising.\n",
    "    - patch_distance (int): The distance for the neighborhood search.\n",
    "    - h (float): The filtering parameter.\n",
    "    - fast_mode (bool): Whether to use the fast mode or not.\n",
    "    - output_path (str): Path to save the filtered image.\n",
    "    \"\"\"\n",
    "    # Load the image\n",
    "    image = nib.load(image_path)\n",
    "    image_data = image.get_fdata()\n",
    "    \n",
    "    # Estimate the noise standard deviation from the noisy image\n",
    "    sigma_est = np.mean(estimate_sigma(image_data))\n",
    "    \n",
    "    # Apply Non-Local Means filter\n",
    "    denoised_image = denoise_nl_means(image_data, patch_size=patch_size, patch_distance=patch_distance, h=h*sigma_est, fast_mode=fast_mode)\n",
    "    \n",
    "    # Save the filtered image\n",
    "    denoised_image_nib = nib.Nifti1Image(denoised_image, image.affine)\n",
    "    nib.save(denoised_image_nib, output_path)\n",
    "    print(f\"Filtered image using scikit-image saved to {output_path}\")\n",
    "\n",
    "# Example usage\n",
    "if __name__ == \"__main__\":\n",
    "    apply_nonlocal_means_skimage('data/I7025.nii.gz', 3, 5, 1.15, True, 'nonlocal_means_3D_image_skimage.nii')\n"
   ]
  },
  {
   "cell_type": "code",
   "execution_count": null,
   "metadata": {},
   "outputs": [],
   "source": [
    "import SimpleITK as sitk\n",
    "\n",
    "def apply_nonlocal_means_sitk(image_path, patch_radius, output_path):\n",
    "    \"\"\"\n",
    "    Apply a 3D Non-Local Means filter to a 3D image using SimpleITK.\n",
    "    \n",
    "    Parameters:\n",
    "    - image_path (str): Path to the input 3D image.\n",
    "    - patch_radius (int): The radius for the neighborhood search.\n",
    "    - output_path (str): Path to save the filtered image.\n",
    "    \"\"\"\n",
    "    # Load the image\n",
    "    image = sitk.ReadImage(image_path)\n",
    "    \n",
    "    # Apply Non-Local Means filter\n",
    "    nlm_filter = sitk.PatchBasedDenoisingImageFilter()\n",
    "    nlm_filter.SetPatchRadius(patch_radius)\n",
    "    nlm_filter.SetNoiseModel(sitk.PatchBasedDenoisingImageFilter.GAUSSIAN)\n",
    "    filtered_image = nlm_filter.Execute(image)\n",
    "    \n",
    "    # Save the filtered image\n",
    "    sitk.WriteImage(filtered_image, output_path)\n",
    "    print(f\"Filtered image using SimpleITK saved to {output_path}\")\n",
    "\n",
    "# Example usage\n",
    "if __name__ == \"__main__\":\n",
    "    apply_nonlocal_means_sitk('data/I7025.nii.gz', 4, 'nonlocal_means_3D_image.nii')\n"
   ]
  },
  {
   "cell_type": "code",
   "execution_count": null,
   "metadata": {},
   "outputs": [],
   "source": []
  }
 ],
 "metadata": {
  "kernelspec": {
   "display_name": "pdi3D_venv",
   "language": "python",
   "name": "pdi3d_venv"
  },
  "language_info": {
   "codemirror_mode": {
    "name": "ipython",
    "version": 3
   },
   "file_extension": ".py",
   "mimetype": "text/x-python",
   "name": "python",
   "nbconvert_exporter": "python",
   "pygments_lexer": "ipython3",
   "version": "3.12.3"
  }
 },
 "nbformat": 4,
 "nbformat_minor": 2
}
