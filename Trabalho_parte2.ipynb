{
 "cells": [
  {
   "cell_type": "markdown",
   "metadata": {},
   "source": [
    "### Lendo imagem"
   ]
  },
  {
   "cell_type": "code",
   "execution_count": null,
   "metadata": {},
   "outputs": [],
   "source": [
    "import SimpleITK as sitk\n",
    "import numpy as np\n",
    "from pathlib import Path\n",
    "import matplotlib.pyplot as plt\n",
    "\n",
    "\n",
    "#root_dir linux\n",
    "#root_dir =\"/home/adriano/projeto_mestrado/modules\"\n",
    "\n",
    "#root_dir windows\n",
    "root_dir = Path(r\"C:\\Users\\adria\\Documents\\Doutorado\\PDI\\Notebooks - PDI\\PDI_Ferrari\")\n",
    "dir_images = f'/imagens/3d/'\n",
    "\n",
    "image_path = f'{root_dir}{dir_images}I7025.nii.gz'\n",
    "image = sitk.ReadImage(image_path) \n",
    "\n",
    "    \n",
    "# Converter para numpy array\n",
    "image_array = sitk.GetArrayFromImage(image)\n",
    "\n",
    "# Exibir um slice no meio do volume\n",
    "slice_idx = image_array.shape[0] // 2  # Pega o índice do slice central\n",
    "slice_image = image_array[slice_idx, :, :]\n",
    "\n",
    "# Plotar o slice\n",
    "plt.figure(figsize=(8, 8))\n",
    "plt.imshow(slice_image, cmap=\"gray\")\n",
    "plt.title(f\"Slice {slice_idx}\")\n",
    "plt.axis(\"off\")\n",
    "plt.show()\n",
    "\n"
   ]
  },
  {
   "cell_type": "markdown",
   "metadata": {},
   "source": [
    "### Função"
   ]
  },
  {
   "cell_type": "code",
   "execution_count": 1,
   "metadata": {},
   "outputs": [],
   "source": [
    "import os\n",
    "def read_directories(directory, img=None):\n",
    "    # Get a list of filenames in the specified directory\n",
    "    filenames = []\n",
    "    for filename in os.listdir(directory):\n",
    "        if img is not None:\n",
    "            # If 'img' is provided, filter filenames containing it\n",
    "            if img in filename:   \n",
    "                filenames.append(filename)          \n",
    "        else:\n",
    "            filenames.append(filename)    \n",
    "    return filenames"
   ]
  },
  {
   "cell_type": "markdown",
   "metadata": {},
   "source": [
    "### Diretório das imagens"
   ]
  },
  {
   "cell_type": "code",
   "execution_count": null,
   "metadata": {},
   "outputs": [],
   "source": [
    "dir_images_clinical = f'work1/clinical_images'\n",
    "dir_images_atlas = f'work1/atlas'\n",
    "dir_images_denoising = f'work1/denoising/non_local_means/images_filtered'\n",
    "dir_resampled = f'work1/atlas_resampled'\n",
    "\n",
    "array_images_clinical = read_directories(dir_images_clinical)\n",
    "dir_images_atlas = read_directories(dir_images_atlas)\n",
    "dir_images_denoising = read_directories(dir_images_denoising)\n"
   ]
  },
  {
   "cell_type": "markdown",
   "metadata": {},
   "source": [
    "### Resample Images"
   ]
  },
  {
   "cell_type": "markdown",
   "metadata": {},
   "source": [
    "#### bilateral"
   ]
  },
  {
   "cell_type": "code",
   "execution_count": null,
   "metadata": {},
   "outputs": [],
   "source": [
    "nex_size = [\n",
    "    \n",
    "    #int(round())\n",
    "]\n",
    "\n",
    "\n",
    "for image in array_images_clinical:\n",
    "    original_image = sitk.ReadImage(f'{dir_images_clinical}/{image}')\n",
    "    original_spacing = original_image.GetSpacing()\n",
    "\n",
    "    print(original_spacing)\n",
    "\n",
    "    atlas_image = sitk.ReadImage(f'{dir_images_atlas}/{image}')\n",
    "    original_spacing_atlas = atlas_image.GetSpacing()\n",
    "\n",
    "    print(original_spacing_atlas)\n",
    "\n",
    "    #resampler = sitk.ResampleImageFilter()\n",
    "    #resampler.SetOutputSpacing(new_spacing)\n",
    "    #resampler.SetSize(new_size)\n",
    "    #resampler.SetInterpolator(sitk.sitkLinear)\n",
    "    #resampled_image = resampler.Execute(original_image)\n",
    "    \n",
    "  \n",
    "    #sitk.WriteImage(resampled_image, f'{dir_resampled}/{image}')\n"
   ]
  }
 ],
 "metadata": {
  "kernelspec": {
   "display_name": ".venv",
   "language": "python",
   "name": "python3"
  },
  "language_info": {
   "codemirror_mode": {
    "name": "ipython",
    "version": 3
   },
   "file_extension": ".py",
   "mimetype": "text/x-python",
   "name": "python",
   "nbconvert_exporter": "python",
   "pygments_lexer": "ipython3",
   "version": "3.9.13"
  }
 },
 "nbformat": 4,
 "nbformat_minor": 2
}
