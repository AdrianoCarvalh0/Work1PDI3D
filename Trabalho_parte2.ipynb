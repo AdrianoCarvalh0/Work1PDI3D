{
 "cells": [
  {
   "cell_type": "markdown",
   "metadata": {},
   "source": [
    "### Função"
   ]
  },
  {
   "cell_type": "code",
   "execution_count": 1,
   "metadata": {},
   "outputs": [],
   "source": [
    "import os\n",
    "def read_directories(directory, img=None):\n",
    "    # Get a list of filenames in the specified directory\n",
    "    filenames = []\n",
    "    for filename in os.listdir(directory):\n",
    "        if img is not None:\n",
    "            # If 'img' is provided, filter filenames containing it\n",
    "            if img in filename:   \n",
    "                filenames.append(filename)          \n",
    "        else:\n",
    "            filenames.append(filename)    \n",
    "    return filenames"
   ]
  },
  {
   "cell_type": "markdown",
   "metadata": {},
   "source": [
    "### Diretório das imagens"
   ]
  },
  {
   "cell_type": "code",
   "execution_count": 9,
   "metadata": {},
   "outputs": [
    {
     "name": "stdout",
     "output_type": "stream",
     "text": [
      "['IXI002-Guys-0828-T1.nii.gz', 'IXI012-HH-1211-T1.nii.gz', 'IXI013-HH-1212-T1.nii.gz', 'IXI014-HH-1236-T1.nii.gz', 'IXI015-HH-1258-T1.nii.gz']\n",
      "['mni_csf.nii.gz', 'mni_gm.nii.gz', 'mni_mask.nii.gz', 'mni_ref.nii.gz', 'mni_wm.nii.gz']\n",
      "['IXI002-Guys-0828-T1.nii.gz', 'IXI012-HH-1211-T1.nii.gz', 'IXI013-HH-1212-T1.nii.gz', 'IXI014-HH-1236-T1.nii.gz', 'IXI015-HH-1258-T1.nii.gz']\n"
     ]
    }
   ],
   "source": [
    "\n",
    "\n",
    "dir_images_clinical = f'work1/clinical_images'\n",
    "dir_images_atlas = f'work1/atlas'\n",
    "dir_images_denoising = f'work1/denoising/non_local_means/images_filtered'\n",
    "dir_resampled = f'work1/atlas_resampled'\n",
    "\n",
    "array_images_clinical = read_directories(dir_images_clinical)\n",
    "array_images_atlas = read_directories(dir_images_atlas)\n",
    "array_images_denoising = read_directories(dir_images_denoising)\n",
    "\n",
    "\n",
    "print(array_images_clinical)\n",
    "print(array_images_atlas)\n",
    "print(array_images_denoising)\n",
    "\n"
   ]
  },
  {
   "cell_type": "markdown",
   "metadata": {},
   "source": [
    "### Resample Images"
   ]
  },
  {
   "cell_type": "markdown",
   "metadata": {},
   "source": [
    "#### bilateral"
   ]
  },
  {
   "cell_type": "code",
   "execution_count": null,
   "metadata": {},
   "outputs": [],
   "source": [
    "import SimpleITK as sitk\n",
    "import numpy as np\n",
    "\n",
    "# Função para reamostrar a imagem, ajustando resolução, tamanho e propriedades\n",
    "def resample_image(itk_image, out_spacing, out_size=None, reference_image=None, is_label=False):\n",
    "    resample = sitk.ResampleImageFilter()\n",
    "\n",
    "    # Define o tamanho e o espaçamento\n",
    "    if reference_image is not None:\n",
    "        # Usa as propriedades da imagem de referência\n",
    "        resample.SetSize(reference_image.GetSize())\n",
    "        resample.SetOutputSpacing(reference_image.GetSpacing())\n",
    "        resample.SetOutputDirection(reference_image.GetDirection())\n",
    "        resample.SetOutputOrigin(reference_image.GetOrigin())\n",
    "    else:\n",
    "        original_spacing = itk_image.GetSpacing()\n",
    "        original_size = itk_image.GetSize()\n",
    "        if out_size is None:\n",
    "            # Calcula o novo tamanho baseado no espaçamento\n",
    "            out_size = [\n",
    "                int(np.round(original_size[0] * (original_spacing[0] / out_spacing[0]))),\n",
    "                int(np.round(original_size[1] * (original_spacing[1] / out_spacing[1]))),\n",
    "                int(np.round(original_size[2] * (original_spacing[2] / out_spacing[2])))\n",
    "            ]\n",
    "        resample.SetSize(out_size)\n",
    "        resample.SetOutputSpacing(out_spacing)\n",
    "        resample.SetOutputDirection(itk_image.GetDirection())\n",
    "        resample.SetOutputOrigin(itk_image.GetOrigin())\n",
    "\n",
    "    # Configurações gerais do filtro\n",
    "    resample.SetTransform(sitk.Transform())\n",
    "    resample.SetDefaultPixelValue(itk_image.GetPixelIDValue())\n",
    "\n",
    "    # Escolhe o interpolador com base no tipo da imagem\n",
    "    if is_label:\n",
    "        resample.SetInterpolator(sitk.sitkNearestNeighbor)\n",
    "    else:\n",
    "        resample.SetInterpolator(sitk.sitkBSpline)\n",
    "\n",
    "    return resample.Execute(itk_image)\n",
    "\n",
    "\n",
    "# Programa principal\n",
    "reader = sitk.ImageFileReader()\n",
    "reader.SetFileName('data\\\\IXI002-Guys-0828-T1.nii.gz')\n",
    "img = reader.Execute()\n",
    "\n",
    "reader = sitk.ImageFileReader()\n",
    "reader.SetFileName('atlas\\\\mni_csf.nii.gz')\n",
    "img_atlas = reader.Execute()\n",
    "\n",
    "print(\"Informação imagem original:\")\n",
    "print(f\"Tamanho: {img.GetSize()}\")\n",
    "print(f\"Espaçamento: {img.GetSpacing()}\")\n",
    "print(f\"Origem: {img.GetOrigin()}\")\n",
    "print(f\"Direção: {img.GetDirection()}\")\n",
    "\n",
    "print(\"Informação do atlas:\")\n",
    "print(f\"Tamanho: {img_atlas.GetSize()}\")\n",
    "print(f\"Espaçamento: {img_atlas.GetSpacing()}\")\n",
    "print(f\"Origem: {img_atlas.GetOrigin()}\")\n",
    "print(f\"Direção: {img_atlas.GetDirection()}\")\n",
    "\n",
    "\n",
    "# Reamostra o atlas para coincidir com a imagem original\n",
    "img_resampled = resample_image(img_atlas, out_spacing=img.GetSpacing(), reference_image=img)\n",
    "\n",
    "print(\"Informação imagem reamostrada:\")\n",
    "print(f\"Tamanho: {img_resampled.GetSize()}\")\n",
    "print(f\"Espaçamento: {img_resampled.GetSpacing()}\")\n",
    "print(f\"Origem: {img_resampled.GetOrigin()}\")\n",
    "print(f\"Direção: {img_resampled.GetDirection()}\")\n",
    "\n",
    "\n",
    "# Salva a imagem reamostrada\n",
    "writer = sitk.ImageFileWriter()\n",
    "writer.SetFileName(\"atlas_resampled_to_img.nii.gz\")\n",
    "writer.Execute(img_resampled)\n",
    "\n"
   ]
  },
  {
   "cell_type": "markdown",
   "metadata": {},
   "source": [
    "## Código do professor"
   ]
  },
  {
   "cell_type": "code",
   "execution_count": null,
   "metadata": {},
   "outputs": [],
   "source": [
    "# Exemplo de resampling usando sitk\n",
    "import SimpleITK as sitk\n",
    "import numpy as np\n",
    "\n",
    "#\n",
    "# Essa função recebe uma imagem itk como entrada e \n",
    "# modifica a sua resolução. Se \n",
    "#\n",
    "def resample_image(itk_image, out_spacing=[1.0, 1.0, 1.0], is_label=False):\n",
    "    original_spacing = itk_image.GetSpacing()\n",
    "    original_size = itk_image.GetSize()\n",
    "\n",
    "    out_size = [\n",
    "        int(np.round(original_size[0] * (original_spacing[0] / out_spacing[0]))),\n",
    "        int(np.round(original_size[1] * (original_spacing[1] / out_spacing[1]))),\n",
    "        int(np.round(original_size[2] * (original_spacing[2] / out_spacing[2])))\n",
    "    ]\n",
    "\n",
    "    resample = sitk.ResampleImageFilter()\n",
    "    resample.SetOutputSpacing(out_spacing)\n",
    "    resample.SetSize(out_size)\n",
    "    resample.SetOutputDirection(itk_image.GetDirection())\n",
    "    resample.SetOutputOrigin(itk_image.GetOrigin())\n",
    "    resample.SetTransform(sitk.Transform())\n",
    "    resample.SetDefaultPixelValue(itk_image.GetPixelIDValue())\n",
    "\n",
    "    #\n",
    "    # Observe aqui que se a imagem for do tipo Label (valores inteiros)\n",
    "    # o interpolador usado é o vizinho mais próximo.\n",
    "    #\n",
    "    # O motivo para isso é que não é indesejável que a imagem (do tipo label)\n",
    "    # possua valores de intensidade do tipo float após a interpolação\n",
    "    # \n",
    "    if is_label:\n",
    "        resample.SetInterpolator(sitk.sitkNearestNeighbor)\n",
    "    else:\n",
    "        resample.SetInterpolator(sitk.sitkBSpline)\n",
    "#        resample.SetInterpolator(sitk.sitkNearestNeighbor)\n",
    "\n",
    "    return resample.Execute(itk_image) \n",
    "\n",
    "\n",
    "# main program\n",
    "reader = sitk.ImageFileReader()\n",
    "reader.SetFileName('imgs/ADNI_012_S_0689_T1.nii')\n",
    "img = reader.Execute()\n",
    "\n",
    "print(\"Informação imagem original\")\n",
    "print( img.GetSize() )\n",
    "print( img.GetSpacing() )\n",
    "print(\"---------------\")\n",
    "\n",
    "img_resampled = resample_image(img)\n",
    "\n",
    "print(\"Informação imagem reamostrada para ter voxels isotrópicos de 1mm\")\n",
    "print( img_resampled.GetSize() )\n",
    "print( img_resampled.GetSpacing() )\n",
    "print(\"---------------\")\n",
    "\n",
    "img_resampled = resample_image(img, [5.0, 5.0, 5.0])\n",
    "\n",
    "print(\"Informação imagem reamostrada para ter voxels isotrópicos de 3mm\")\n",
    "print( img_resampled.GetSize() )\n",
    "print( img_resampled.GetSpacing() )\n",
    "\n",
    "writer = sitk.ImageFileWriter()\n",
    "writer.SetFileName(\"test.nii\")\n",
    "writer.Execute(img_resampled)\n",
    "\n"
   ]
  }
 ],
 "metadata": {
  "kernelspec": {
   "display_name": ".venv",
   "language": "python",
   "name": "python3"
  },
  "language_info": {
   "codemirror_mode": {
    "name": "ipython",
    "version": 3
   },
   "file_extension": ".py",
   "mimetype": "text/x-python",
   "name": "python",
   "nbconvert_exporter": "python",
   "pygments_lexer": "ipython3",
   "version": "3.9.13"
  }
 },
 "nbformat": 4,
 "nbformat_minor": 2
}
